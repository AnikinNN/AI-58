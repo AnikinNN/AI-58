{
 "cells": [
  {
   "cell_type": "code",
   "execution_count": 3,
   "metadata": {},
   "outputs": [],
   "source": [
    "from matplotlib import pyplot as plt\n",
    "\n",
    "from path import *"
   ]
  },
  {
   "cell_type": "code",
   "execution_count": 4,
   "metadata": {},
   "outputs": [
    {
     "ename": "NameError",
     "evalue": "name 'corr_columns' is not defined",
     "output_type": "error",
     "traceback": [
      "\u001B[1;31m---------------------------------------------------------------------------\u001B[0m",
      "\u001B[1;31mNameError\u001B[0m                                 Traceback (most recent call last)",
      "\u001B[1;32m<ipython-input-4-73b94ec8d809>\u001B[0m in \u001B[0;36m<module>\u001B[1;34m\u001B[0m\n\u001B[0;32m      1\u001B[0m \u001B[0mobservations\u001B[0m \u001B[1;33m=\u001B[0m \u001B[0mpd\u001B[0m\u001B[1;33m.\u001B[0m\u001B[0mread_csv\u001B[0m\u001B[1;33m(\u001B[0m\u001B[0mos\u001B[0m\u001B[1;33m.\u001B[0m\u001B[0mpath\u001B[0m\u001B[1;33m.\u001B[0m\u001B[0mjoin\u001B[0m\u001B[1;33m(\u001B[0m\u001B[0mdatabases_dir\u001B[0m\u001B[1;33m,\u001B[0m \u001B[1;34m\"correlations.csv\"\u001B[0m\u001B[1;33m)\u001B[0m\u001B[1;33m)\u001B[0m\u001B[1;33m\u001B[0m\u001B[1;33m\u001B[0m\u001B[0m\n\u001B[0;32m      2\u001B[0m \u001B[1;33m\u001B[0m\u001B[0m\n\u001B[1;32m----> 3\u001B[1;33m \u001B[0mobservations\u001B[0m \u001B[1;33m=\u001B[0m \u001B[0mobservations\u001B[0m\u001B[1;33m.\u001B[0m\u001B[0mdropna\u001B[0m\u001B[1;33m(\u001B[0m\u001B[0mhow\u001B[0m\u001B[1;33m=\u001B[0m\u001B[1;34m\"any\"\u001B[0m\u001B[1;33m,\u001B[0m \u001B[0maxis\u001B[0m\u001B[1;33m=\u001B[0m\u001B[1;34m\"index\"\u001B[0m\u001B[1;33m,\u001B[0m \u001B[0msubset\u001B[0m\u001B[1;33m=\u001B[0m\u001B[0mcorr_columns\u001B[0m\u001B[1;33m)\u001B[0m\u001B[1;33m\u001B[0m\u001B[1;33m\u001B[0m\u001B[0m\n\u001B[0m\u001B[0;32m      4\u001B[0m observations = observations.drop(columns=[\"Unnamed: 0\", 'Heading', 'Lat', 'Lon', \n\u001B[0;32m      5\u001B[0m                                           \u001B[1;34m\"corr_on_threshold_0.6\"\u001B[0m\u001B[1;33m,\u001B[0m \u001B[1;34m\"corr_on_threshold_0.7\"\u001B[0m\u001B[1;33m,\u001B[0m \u001B[1;34m'corr_on_threshold_0.9'\u001B[0m\u001B[1;33m,\u001B[0m \u001B[1;34m'corr_on_threshold_0.95'\u001B[0m\u001B[1;33m,\u001B[0m \u001B[1;34m'corr_on_threshold_0.99'\u001B[0m\u001B[1;33m,\u001B[0m\u001B[1;33m\u001B[0m\u001B[1;33m\u001B[0m\u001B[0m\n",
      "\u001B[1;31mNameError\u001B[0m: name 'corr_columns' is not defined"
     ]
    }
   ],
   "source": [
    "observations = pd.read_csv(os.path.join(databases_dir, \"correlations.csv\"))\n",
    "\n",
    "observations = observations.dropna(how=\"any\", axis=\"index\", subset=corr_columns)\n",
    "observations = observations.drop(columns=[\"Unnamed: 0\", 'Heading', 'Lat', 'Lon', \n",
    "                                          \"corr_on_threshold_0.6\", \"corr_on_threshold_0.7\", 'corr_on_threshold_0.9', 'corr_on_threshold_0.95', 'corr_on_threshold_0.99',\n",
    "                                         'photo_on_threshold_0.6', 'photo_on_threshold_0.7', 'photo_on_threshold_0.9', 'photo_on_threshold_0.95', 'photo_on_threshold_0.99',])\n",
    "observations = observations.reset_index(drop=True)\n",
    "\n",
    "corr_columns = list(corr for corr in observations.columns if corr.startswith(\"corr_on_threshold\"))\n",
    "photo_columns = list(corr for corr in observations.columns if corr.startswith(\"photo_on_threshold\"))\n",
    "photo_columns.append(\"time\")\n",
    "\n",
    "for photo_column in photo_columns:\n",
    "    observations[photo_column] = pd.to_datetime(observations[photo_column])\n",
    "    \n",
    "    \n",
    "observations.dropna(axis='index', subset=[\"Types of clouds\"], how='any')"
   ]
  },
  {
   "cell_type": "code",
   "execution_count": null,
   "metadata": {},
   "outputs": [],
   "source": [
    "def to_timedelta(row: pd.Series):\n",
    "    for photo_column in photo_columns:\n",
    "        row[photo_column] = (row[photo_column] - row[\"time\"]).value\n",
    "    return row\n",
    "\n",
    "observations = observations.apply(to_timedelta, axis=1)\n",
    "\n",
    "observations"
   ]
  },
  {
   "cell_type": "code",
   "execution_count": null,
   "metadata": {},
   "outputs": [],
   "source": [
    "def split_clouds_type(row: pd.Series):\n",
    "    # extract first base type\n",
    "    cloud_type = row[\"Types of clouds\"]\n",
    "    if type(cloud_type) == str:\n",
    "        main_type = cloud_type[:2]\n",
    "        clouds = cloud_type.split(\",\")\n",
    "        clouds = set(cloud[:2] for cloud in clouds)\n",
    "\n",
    "        return main_type\n",
    "    return \"-\""
   ]
  },
  {
   "cell_type": "code",
   "execution_count": null,
   "metadata": {},
   "outputs": [],
   "source": [
    "observations[\"Types of clouds\"] = observations.apply(split_clouds_type, axis=1)\n",
    "uniq_types = pd.DataFrame(set(observations[\"Types of clouds\"]), columns=[\"Types of clouds\"])\n",
    "uniq_types"
   ]
  },
  {
   "cell_type": "code",
   "execution_count": null,
   "metadata": {},
   "outputs": [],
   "source": [
    "def calc_speed(row: pd.Series):\n",
    "    sub_observations = observations[observations[\"Types of clouds\"] == row[\"Types of clouds\"]]\n",
    "        \n",
    "    for photo_column in photo_columns:\n",
    "        row[\"mean_\" + photo_column] = pd.Timedelta(sub_observations[photo_column].mean())\n",
    "        row[\"max_\" + photo_column] = pd.Timedelta(sub_observations[photo_column].max())\n",
    "        row[\"min_\" + photo_column] = pd.Timedelta(sub_observations[photo_column].min())\n",
    "\n",
    "    return row\n",
    "    \n",
    "    \n",
    "uniq_types = uniq_types.apply(calc_speed, axis=1)\n",
    "uniq_types"
   ]
  },
  {
   "cell_type": "code",
   "execution_count": null,
   "metadata": {},
   "outputs": [],
   "source": [
    "uniq_types.to_csv(os.path.join(databases_dir, \"correlations_on_types.csv\"))"
   ]
  },
  {
   "cell_type": "code",
   "execution_count": null,
   "metadata": {},
   "outputs": [],
   "source": []
  }
 ],
 "metadata": {
  "kernelspec": {
   "name": "pycharm-c6c13637",
   "language": "python",
   "display_name": "PyCharm (AI-58)"
  },
  "language_info": {
   "codemirror_mode": {
    "name": "ipython",
    "version": 3
   },
   "file_extension": ".py",
   "mimetype": "text/x-python",
   "name": "python",
   "nbconvert_exporter": "python",
   "pygments_lexer": "ipython3",
   "version": "3.8.5"
  }
 },
 "nbformat": 4,
 "nbformat_minor": 4
}