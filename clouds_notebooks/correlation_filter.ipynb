{
 "cells": [
  {
   "cell_type": "code",
   "execution_count": 38,
   "metadata": {
    "tags": []
   },
   "outputs": [],
   "source": [
    "import os\n",
    "\n",
    "import numpy as np\n",
    "from matplotlib import pyplot as plt\n",
    "import pandas as pd\n",
    "from tqdm import tqdm\n",
    "from datetime import datetime\n",
    "\n",
    "from clouds_scripts.path import photos_base_dir\n",
    "from compute_features import calculate_masked_features, features_calculator, get_masked_image\n",
    "from connect_rad_photos import connect_rad_photos, extract_time, get_full_path\n",
    "from multiprocessing import Pool, freeze_support\n",
    "from path import *"
   ]
  },
  {
   "cell_type": "code",
   "execution_count": 39,
   "metadata": {
    "collapsed": false,
    "jupyter": {
     "outputs_hidden": false
    },
    "pycharm": {
     "name": "#%%\n"
    }
   },
   "outputs": [],
   "source": [
    "photos ="
   ]
  },
  {
   "cell_type": "code",
   "execution_count": 40,
   "metadata": {
    "collapsed": false,
    "jupyter": {
     "outputs_hidden": false
    },
    "pycharm": {
     "name": "#%%\n"
    }
   },
   "outputs": [
    {
     "data": {
      "text/plain": "                                photos          photo_time  \\\n0    img-2021-08-16T00-50-07devID2.jpg 2021-08-16 00:50:07   \n1    img-2021-08-16T00-50-07devID1.jpg 2021-08-16 00:50:07   \n2    img-2021-08-16T00-50-17devID1.jpg 2021-08-16 00:50:17   \n3    img-2021-08-16T00-50-17devID2.jpg 2021-08-16 00:50:17   \n4    img-2021-08-16T00-50-27devID1.jpg 2021-08-16 00:50:27   \n..                                 ...                 ...   \n235  img-2021-08-16T01-09-38devID2.jpg 2021-08-16 01:09:38   \n236  img-2021-08-16T01-09-48devID2.jpg 2021-08-16 01:09:48   \n237  img-2021-08-16T01-09-48devID1.jpg 2021-08-16 01:09:48   \n238  img-2021-08-16T01-09-58devID1.jpg 2021-08-16 01:09:58   \n239  img-2021-08-16T01-09-58devID2.jpg 2021-08-16 01:09:58   \n\n              data time  CM3up[W/m2]  CG3up[W/m2]  CM3down[W/m2]  \\\n0   2021-08-16 00:50:14    24.640118    -6.728648       5.401872   \n1   2021-08-16 00:50:14    24.640118    -6.728648       5.401872   \n2   2021-08-16 00:50:24    24.450579    -6.728648       5.117563   \n3   2021-08-16 00:50:24    24.450579    -6.728648       5.117563   \n4   2021-08-16 00:50:34    23.692421    -6.633878       4.643715   \n..                  ...          ...          ...            ...   \n235 2021-08-16 01:09:44    16.963774    -6.539108       1.990163   \n236 2021-08-16 01:09:54    17.816701    -6.633878       2.369242   \n237 2021-08-16 01:09:54    17.816701    -6.633878       2.369242   \n238 2021-08-16 01:10:04    18.195780    -6.728648       2.653551   \n239 2021-08-16 01:10:04    18.195780    -6.728648       2.653551   \n\n     CG3down[W/m2]   Temp[C]  \n0        -5.496642  9.704829  \n1        -5.496642  9.704829  \n2        -5.401872  9.717651  \n3        -5.401872  9.717651  \n4        -5.401872  9.692006  \n..             ...       ...  \n235      -5.496642  9.909986  \n236      -5.591411  9.909986  \n237      -5.591411  9.909986  \n238      -5.686181  9.897164  \n239      -5.686181  9.897164  \n\n[240 rows x 8 columns]",
      "text/html": "<div>\n<style scoped>\n    .dataframe tbody tr th:only-of-type {\n        vertical-align: middle;\n    }\n\n    .dataframe tbody tr th {\n        vertical-align: top;\n    }\n\n    .dataframe thead th {\n        text-align: right;\n    }\n</style>\n<table border=\"1\" class=\"dataframe\">\n  <thead>\n    <tr style=\"text-align: right;\">\n      <th></th>\n      <th>photos</th>\n      <th>photo_time</th>\n      <th>data time</th>\n      <th>CM3up[W/m2]</th>\n      <th>CG3up[W/m2]</th>\n      <th>CM3down[W/m2]</th>\n      <th>CG3down[W/m2]</th>\n      <th>Temp[C]</th>\n    </tr>\n  </thead>\n  <tbody>\n    <tr>\n      <th>0</th>\n      <td>img-2021-08-16T00-50-07devID2.jpg</td>\n      <td>2021-08-16 00:50:07</td>\n      <td>2021-08-16 00:50:14</td>\n      <td>24.640118</td>\n      <td>-6.728648</td>\n      <td>5.401872</td>\n      <td>-5.496642</td>\n      <td>9.704829</td>\n    </tr>\n    <tr>\n      <th>1</th>\n      <td>img-2021-08-16T00-50-07devID1.jpg</td>\n      <td>2021-08-16 00:50:07</td>\n      <td>2021-08-16 00:50:14</td>\n      <td>24.640118</td>\n      <td>-6.728648</td>\n      <td>5.401872</td>\n      <td>-5.496642</td>\n      <td>9.704829</td>\n    </tr>\n    <tr>\n      <th>2</th>\n      <td>img-2021-08-16T00-50-17devID1.jpg</td>\n      <td>2021-08-16 00:50:17</td>\n      <td>2021-08-16 00:50:24</td>\n      <td>24.450579</td>\n      <td>-6.728648</td>\n      <td>5.117563</td>\n      <td>-5.401872</td>\n      <td>9.717651</td>\n    </tr>\n    <tr>\n      <th>3</th>\n      <td>img-2021-08-16T00-50-17devID2.jpg</td>\n      <td>2021-08-16 00:50:17</td>\n      <td>2021-08-16 00:50:24</td>\n      <td>24.450579</td>\n      <td>-6.728648</td>\n      <td>5.117563</td>\n      <td>-5.401872</td>\n      <td>9.717651</td>\n    </tr>\n    <tr>\n      <th>4</th>\n      <td>img-2021-08-16T00-50-27devID1.jpg</td>\n      <td>2021-08-16 00:50:27</td>\n      <td>2021-08-16 00:50:34</td>\n      <td>23.692421</td>\n      <td>-6.633878</td>\n      <td>4.643715</td>\n      <td>-5.401872</td>\n      <td>9.692006</td>\n    </tr>\n    <tr>\n      <th>...</th>\n      <td>...</td>\n      <td>...</td>\n      <td>...</td>\n      <td>...</td>\n      <td>...</td>\n      <td>...</td>\n      <td>...</td>\n      <td>...</td>\n    </tr>\n    <tr>\n      <th>235</th>\n      <td>img-2021-08-16T01-09-38devID2.jpg</td>\n      <td>2021-08-16 01:09:38</td>\n      <td>2021-08-16 01:09:44</td>\n      <td>16.963774</td>\n      <td>-6.539108</td>\n      <td>1.990163</td>\n      <td>-5.496642</td>\n      <td>9.909986</td>\n    </tr>\n    <tr>\n      <th>236</th>\n      <td>img-2021-08-16T01-09-48devID2.jpg</td>\n      <td>2021-08-16 01:09:48</td>\n      <td>2021-08-16 01:09:54</td>\n      <td>17.816701</td>\n      <td>-6.633878</td>\n      <td>2.369242</td>\n      <td>-5.591411</td>\n      <td>9.909986</td>\n    </tr>\n    <tr>\n      <th>237</th>\n      <td>img-2021-08-16T01-09-48devID1.jpg</td>\n      <td>2021-08-16 01:09:48</td>\n      <td>2021-08-16 01:09:54</td>\n      <td>17.816701</td>\n      <td>-6.633878</td>\n      <td>2.369242</td>\n      <td>-5.591411</td>\n      <td>9.909986</td>\n    </tr>\n    <tr>\n      <th>238</th>\n      <td>img-2021-08-16T01-09-58devID1.jpg</td>\n      <td>2021-08-16 01:09:58</td>\n      <td>2021-08-16 01:10:04</td>\n      <td>18.195780</td>\n      <td>-6.728648</td>\n      <td>2.653551</td>\n      <td>-5.686181</td>\n      <td>9.897164</td>\n    </tr>\n    <tr>\n      <th>239</th>\n      <td>img-2021-08-16T01-09-58devID2.jpg</td>\n      <td>2021-08-16 01:09:58</td>\n      <td>2021-08-16 01:10:04</td>\n      <td>18.195780</td>\n      <td>-6.728648</td>\n      <td>2.653551</td>\n      <td>-5.686181</td>\n      <td>9.897164</td>\n    </tr>\n  </tbody>\n</table>\n<p>240 rows × 8 columns</p>\n</div>"
     },
     "execution_count": 40,
     "metadata": {},
     "output_type": "execute_result"
    }
   ],
   "source": [
    "# delete unused photos or filter them\n",
    "start_date = pd.to_datetime(\"2021-08-16 00:50:00\")\n",
    "end_date = pd.to_datetime(\"2021-08-16 01:10:00\")\n",
    "selection = (photos[\"photo_time\"] > start_date) & (photos[\"photo_time\"] < end_date)\n",
    "# apply selection\n",
    "photos = photos[selection]\n",
    "\n",
    "photos = photos.reset_index(drop=True)\n",
    "\n",
    "photos"
   ]
  },
  {
   "cell_type": "code",
   "execution_count": 41,
   "metadata": {
    "collapsed": false,
    "jupyter": {
     "outputs_hidden": false
    },
    "pycharm": {
     "name": "#%%\n"
    }
   },
   "outputs": [
    {
     "name": "stderr",
     "output_type": "stream",
     "text": [
      "100%|██████████| 240/240 [01:46<00:00,  2.29it/s]"
     ]
    }
   ],
   "source": [
    "pbar = tqdm(total=photos.shape[0], position=0, leave=True)\n",
    "def correlation(a, b):\n",
    "    return np.corrcoef(a, b)[0, 1]\n",
    "\n",
    "def corr(row: pd.Series):\n",
    "    # find next photo\n",
    "    prev_img = None\n",
    "    prev_index = row.name\n",
    "    while (prev_img is None) and (prev_index > 0):\n",
    "        prev_index -= 1\n",
    "        if photos.iloc[prev_index][\"photos\"][-5] == row[\"photos\"][-5]:\n",
    "            prev_img = get_masked_image(get_full_path(photos.iloc[prev_index][\"photos\"]), masks)\n",
    "    current_img = get_masked_image(get_full_path(row[\"photos\"]), masks)\n",
    "    result = correlation(current_img[5], prev_img[5]) if prev_img is not None else None\n",
    "    pbar.update()\n",
    "    return result\n",
    "\n",
    "photos[\"corr_to_prev\"] = photos.apply(corr, axis=1)"
   ]
  },
  {
   "cell_type": "code",
   "execution_count": 43,
   "metadata": {
    "collapsed": false,
    "jupyter": {
     "outputs_hidden": false
    },
    "pycharm": {
     "name": "#%%\n"
    }
   },
   "outputs": [
    {
     "data": {
      "text/plain": "[<matplotlib.lines.Line2D at 0x21d027fab50>]"
     },
     "execution_count": 43,
     "metadata": {},
     "output_type": "execute_result"
    },
    {
     "data": {
      "text/plain": "<Figure size 432x288 with 1 Axes>",
      "image/png": "[encoded data removed]"
     },
     "metadata": {
      "needs_background": "light"
     },
     "output_type": "display_data"
    }
   ],
   "source": [
    "plt.plot(photos[\"photo_time\"], photos[\"corr_to_prev\"])"
   ]
  }
 ],
 "metadata": {
  "kernelspec": {
   "display_name": "Python 3 (ipykernel)",
   "language": "python",
   "name": "python3"
  },
  "language_info": {
   "codemirror_mode": {
    "name": "ipython",
    "version": 3
   },
   "file_extension": ".py",
   "mimetype": "text/x-python",
   "name": "python",
   "nbconvert_exporter": "python",
   "pygments_lexer": "ipython3",
   "version": "3.8.5"
  }
 },
 "nbformat": 4,
 "nbformat_minor": 4
}