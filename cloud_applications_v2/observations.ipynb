{
 "cells": [
  {
   "cell_type": "code",
   "execution_count": 1,
   "id": "db0ea7ba-30c9-42bf-b2d1-aa05b3c9a53c",
   "metadata": {},
   "outputs": [],
   "source": [
    "import json\n",
    "import datetime\n",
    "import pandas as pd\n",
    "import re, os, sys\n",
    "\n",
    "from pathlib import Path\n",
    "sys.path.append(Path.cwd().parent.__str__())\n",
    "\n",
    "from cloud_lib_v2.observation import init_observations"
   ]
  },
  {
   "cell_type": "code",
   "execution_count": 3,
   "id": "49db65e9-8e5d-4653-b3b0-6cdd3446ccdc",
   "metadata": {},
   "outputs": [
    {
     "data": {
      "text/plain": [
       "[PosixPath('/dasio/AI60/AI60.xlsx'),\n",
       " PosixPath('/dasio/AI61/AI61-observations.MB.xlsx'),\n",
       " PosixPath('/dasio/AI45/AI45-short.xlsx'),\n",
       " PosixPath('/dasio/AMK79/AMK79-short.xlsx'),\n",
       " PosixPath('/dasio/AMK71/AMK71-short.xlsx'),\n",
       " PosixPath('/dasio/AMK70/AMK70-short.xlsx'),\n",
       " PosixPath('/dasio/ABP42/ABP42-short.xlsx'),\n",
       " PosixPath('/dasio/AI52/AI52-short.xlsx'),\n",
       " PosixPath('/dasio/AI49/AI49-short.xlsx'),\n",
       " PosixPath('/dasio/ANS31/ANS31_short.xlsx')]"
      ]
     },
     "execution_count": 3,
     "metadata": {},
     "output_type": "execute_result"
    }
   ],
   "source": [
    "dasio_path = Path('/dasio')\n",
    "table_paths = [*dasio_path.glob('*/*.xlsx')]\n",
    "table_paths"
   ]
  },
  {
   "cell_type": "code",
   "execution_count": 4,
   "id": "623555a1-c342-4fdf-af6e-4fdab53526fe",
   "metadata": {},
   "outputs": [
    {
     "name": "stdout",
     "output_type": "stream",
     "text": [
      "/dasio/AI60/AI60.xlsx\n",
      "Index(['Date_Time (UTC)', 'Lat', 'Lon', 'Sun Altitude (высота диска Солнца)',\n",
      "       'Heading (направление движения судна)', 'Speed, Kt (скорость судна)',\n",
      "       'T_Water', 'Балл волнения', 'Pressure, hPa', 'W_speed (мостик)',\n",
      "       'W_speed (АМС)', 'W_dir  (мостик)', 'T_Air (судовой термометр)',\n",
      "       'T_air (Термометр гидрологический)', 'T_air (сухой термометр)',\n",
      "       'T_air (смоченный термометр)', 'E (сухой)', 'E (смоченный)', 'Rh (%)',\n",
      "       'Dew pt.',\n",
      "       'u_a (восточная компонента скорости относительно поверхности)',\n",
      "       'v_a (северная компонента скорости относительно поверхности)',\n",
      "       'SDS (состояние диска Солнца)', 'TCC (общее количество облаков)',\n",
      "       'LCC (количество облаков нижнего яруса)', 'Types of clouds',\n",
      "       'Гидрометеорологические явления (дождь, морось, снег, радуга, туман, гроза, смерчь)',\n",
      "       'Наблюдатель', 'Comments'],\n",
      "      dtype='object')\n",
      "\n",
      "/dasio/AI61/AI61-observations.MB.xlsx\n",
      "Index(['Date_Time', 'Lat', 'Lon', 'Sun Altitude', 'Rh (%)', 'SDS', 'TCC',\n",
      "       'LCC', 'Types of clouds', 'Heading', 'Speed, Kt', 'Pressure, hPa',\n",
      "       'T_Air', 'W_speed', 'W_dir', 'Report'],\n",
      "      dtype='object')\n",
      "\n",
      "/dasio/AI45/AI45-short.xlsx\n",
      "Index(['dt', 'Pressure', 'Ta_C', 'Tw_C', 'Wsp_ms', 'Wdir_deg', 'Swell', 'TCC',\n",
      "       'LCC', 'CTypes', 'Sun'],\n",
      "      dtype='object')\n",
      "\n",
      "/dasio/AMK79/AMK79-short.xlsx\n",
      "Index(['dt', 'Pressure', 'Ta_C', 'Tw_C', 'Wsp_ms', 'Wdir_deg', 'Swell', 'TCC',\n",
      "       'LCC', 'CTypes', 'Sun'],\n",
      "      dtype='object')\n",
      "\n",
      "/dasio/AMK71/AMK71-short.xlsx\n",
      "Index(['dt', 'Pressure', 'Ta_C', 'Tw_C', 'Wsp_ms', 'Wdir_deg', 'Swell', 'TCC',\n",
      "       'LCC', 'CTypes', 'Sun'],\n",
      "      dtype='object')\n",
      "\n",
      "/dasio/AMK70/AMK70-short.xlsx\n",
      "Index(['dt', 'Pressure', 'Ta_C', 'Tw_C', 'Wsp_ms', 'Wdir_deg', 'Swell', 'TCC',\n",
      "       'LCC', 'CTypes', 'Sun'],\n",
      "      dtype='object')\n",
      "\n",
      "/dasio/ABP42/ABP42-short.xlsx\n",
      "Index(['dt', 'Pressure', 'Ta_C', 'Tw_C', 'Wsp_ms', 'Wdir_deg', 'Swell', 'TCC',\n",
      "       'LCC', 'CTypes', 'Sun'],\n",
      "      dtype='object')\n",
      "\n",
      "/dasio/AI52/AI52-short.xlsx\n",
      "Index(['dt', 'Pressure', 'Ta_C', 'Tw_C', 'Wsp_ms', 'Wdir_deg', 'Swell', 'TCC',\n",
      "       'LCC', 'CTypes', 'Sun'],\n",
      "      dtype='object')\n",
      "\n",
      "/dasio/AI49/AI49-short.xlsx\n",
      "Index(['dt', 'Pressure', 'Ta_C', 'Tw_C', 'Wsp_ms', 'Wdir_deg', 'Swell', 'TCC',\n",
      "       'LCC', 'CTypes', 'Sun'],\n",
      "      dtype='object')\n",
      "\n",
      "/dasio/ANS31/ANS31_short.xlsx\n",
      "Index(['dt', 'Pressure', 'Ta_C', 'Tw_C', 'Wsp_ms', 'Wdir_deg', 'Swell', 'TCC',\n",
      "       'LCC', 'CTypes', 'Sun'],\n",
      "      dtype='object')\n",
      "\n"
     ]
    }
   ],
   "source": [
    "for table_path in table_paths:\n",
    "    df = pd.read_excel(table_path)\n",
    "    print(table_path)\n",
    "    print(df.columns)\n",
    "    print()"
   ]
  },
  {
   "cell_type": "code",
   "execution_count": 5,
   "id": "7b0a4c19-6a67-4cd6-846a-ab00ec8073c9",
   "metadata": {},
   "outputs": [
    {
     "name": "stdout",
     "output_type": "stream",
     "text": [
      "/dasio/AI60/AI60.xlsx\n",
      "(151, 29)\n",
      "\n"
     ]
    },
    {
     "name": "stderr",
     "output_type": "stream",
     "text": [
      "/app/scripts/anikin/AI-58/cloud_lib_v2/observation.py:76: UserWarning: There are 3 mistakes in dates. They are dropped\n",
      "62    06.11.2021 12.26\n",
      "63    06.11.2021 13.30\n",
      "64    06.11.2021 14.30\n",
      "Name: observation_datetime, dtype: object\n",
      "  warnings.warn(f'There are {is_na.sum()} mistakes in dates. They are dropped\\n'\n"
     ]
    },
    {
     "name": "stdout",
     "output_type": "stream",
     "text": [
      "/dasio/AI61/AI61-observations.MB.xlsx\n",
      "(229, 16)\n",
      "\n",
      "/dasio/AI45/AI45-short.xlsx\n",
      "(113, 11)\n",
      "\n",
      "/dasio/AMK79/AMK79-short.xlsx\n",
      "(355, 11)\n",
      "\n",
      "/dasio/AMK71/AMK71-short.xlsx\n",
      "(824, 11)\n",
      "\n",
      "/dasio/AMK70/AMK70-short.xlsx\n",
      "(68, 11)\n",
      "\n",
      "/dasio/ABP42/ABP42-short.xlsx\n",
      "(655, 11)\n",
      "\n",
      "/dasio/AI52/AI52-short.xlsx\n",
      "(381, 11)\n",
      "\n",
      "/dasio/AI49/AI49-short.xlsx\n",
      "(330, 11)\n",
      "\n",
      "/dasio/ANS31/ANS31_short.xlsx\n",
      "(349, 11)\n",
      "\n"
     ]
    }
   ],
   "source": [
    "for table_path in table_paths:\n",
    "    df = init_observations(table_path)\n",
    "    print(table_path)\n",
    "    print(df.shape)\n",
    "    print()"
   ]
  },
  {
   "cell_type": "code",
   "execution_count": null,
   "id": "6bc0c593-d45f-4012-a5a9-2bd778755dc2",
   "metadata": {},
   "outputs": [],
   "source": []
  }
 ],
 "metadata": {
  "kernelspec": {
   "display_name": "Python 3 (ipykernel)",
   "language": "python",
   "name": "python3"
  },
  "language_info": {
   "codemirror_mode": {
    "name": "ipython",
    "version": 3
   },
   "file_extension": ".py",
   "mimetype": "text/x-python",
   "name": "python",
   "nbconvert_exporter": "python",
   "pygments_lexer": "ipython3",
   "version": "3.9.13"
  }
 },
 "nbformat": 4,
 "nbformat_minor": 5
}
